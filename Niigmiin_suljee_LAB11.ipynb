{
  "nbformat": 4,
  "nbformat_minor": 0,
  "metadata": {
    "colab": {
      "provenance": []
    },
    "kernelspec": {
      "name": "python3",
      "display_name": "Python 3"
    },
    "language_info": {
      "name": "python"
    }
  },
  "cells": [
    {
      "cell_type": "markdown",
      "source": [
        "#1. LinkPred санг суулгах (to top)\n",
        "Эхний алхам бол, linkpred санг суулгах бөгөөд амжилттай суусан тохиолдолд уг сангын функцүүдтэй\n",
        "ажиллах боломжтой болно.\n",
        "Санг суулгахдаа pip ашиглаж болно."
      ],
      "metadata": {
        "id": "JW06HsirMSPV"
      }
    },
    {
      "cell_type": "code",
      "execution_count": 19,
      "metadata": {
        "colab": {
          "base_uri": "https://localhost:8080/"
        },
        "id": "yzDoiiq7MLcS",
        "outputId": "84c78b44-c4cf-4716-b811-b5a4d99fbbff"
      },
      "outputs": [
        {
          "output_type": "stream",
          "name": "stdout",
          "text": [
            "Requirement already satisfied: linkpred in /usr/local/lib/python3.11/dist-packages (0.6)\n",
            "Requirement already satisfied: matplotlib>=3.5 in /usr/local/lib/python3.11/dist-packages (from linkpred) (3.10.0)\n",
            "Requirement already satisfied: networkx>=3.0 in /usr/local/lib/python3.11/dist-packages (from linkpred) (3.4.2)\n",
            "Requirement already satisfied: numpy>=1.23 in /usr/local/lib/python3.11/dist-packages (from linkpred) (2.0.2)\n",
            "Requirement already satisfied: pyyaml>=3.0 in /usr/local/lib/python3.11/dist-packages (from linkpred) (6.0.2)\n",
            "Requirement already satisfied: scipy>=1.10 in /usr/local/lib/python3.11/dist-packages (from linkpred) (1.14.1)\n",
            "Requirement already satisfied: smokesignal>=0.7 in /usr/local/lib/python3.11/dist-packages (from linkpred) (0.7.0)\n",
            "Requirement already satisfied: contourpy>=1.0.1 in /usr/local/lib/python3.11/dist-packages (from matplotlib>=3.5->linkpred) (1.3.1)\n",
            "Requirement already satisfied: cycler>=0.10 in /usr/local/lib/python3.11/dist-packages (from matplotlib>=3.5->linkpred) (0.12.1)\n",
            "Requirement already satisfied: fonttools>=4.22.0 in /usr/local/lib/python3.11/dist-packages (from matplotlib>=3.5->linkpred) (4.57.0)\n",
            "Requirement already satisfied: kiwisolver>=1.3.1 in /usr/local/lib/python3.11/dist-packages (from matplotlib>=3.5->linkpred) (1.4.8)\n",
            "Requirement already satisfied: packaging>=20.0 in /usr/local/lib/python3.11/dist-packages (from matplotlib>=3.5->linkpred) (24.2)\n",
            "Requirement already satisfied: pillow>=8 in /usr/local/lib/python3.11/dist-packages (from matplotlib>=3.5->linkpred) (11.1.0)\n",
            "Requirement already satisfied: pyparsing>=2.3.1 in /usr/local/lib/python3.11/dist-packages (from matplotlib>=3.5->linkpred) (3.2.3)\n",
            "Requirement already satisfied: python-dateutil>=2.7 in /usr/local/lib/python3.11/dist-packages (from matplotlib>=3.5->linkpred) (2.8.2)\n",
            "Requirement already satisfied: six>=1.5 in /usr/local/lib/python3.11/dist-packages (from python-dateutil>=2.7->matplotlib>=3.5->linkpred) (1.17.0)\n"
          ]
        }
      ],
      "source": [
        "!pip install linkpred"
      ]
    },
    {
      "cell_type": "code",
      "source": [
        "import linkpred"
      ],
      "metadata": {
        "id": "z8Nx2hmXMZwC"
      },
      "execution_count": 20,
      "outputs": []
    },
    {
      "cell_type": "markdown",
      "source": [
        "#2. Таамаглах үйл явцын дараалал\n",
        "linkpred нь дараах 3-н үе шаттайгаар Холбоосыг таамаглах үйл явцыг биелүүлдэг.\n",
        "1. Сүлжээгээ байгуулах - Network Loading\n",
        "2. Таамаглагчаа сонгох, аппликейшн - Predictor selection and application\n",
        "3. Үр дүн үнэлэх - Results evaluation\n",
        "#2.A Файлаас уншиж сүлжээг байгуулах\n",
        "Эхлээд, linkpred нь файлаас графыг уншихыг шаарддаг. Бид энэ удаа Game of Thrones Season 6\n",
        "(Хаадын тоглоом цуврал)-ийн ирмэгүүдийг мэдээллийг ашиглана."
      ],
      "metadata": {
        "id": "ccZ7O5O5Meg7"
      }
    },
    {
      "cell_type": "code",
      "source": [
        "%matplotlib inline"
      ],
      "metadata": {
        "id": "-6ZoH2L0NwR-"
      },
      "execution_count": 21,
      "outputs": []
    },
    {
      "cell_type": "code",
      "source": [
        "import matplotlib.pyplot as plt  # График үүсгэхэд ашигладаг matplotlib-ийн pyplot модулийг импортлоно\n",
        "import networkx as nx  # Сүлжээний графиктай ажиллах networkx санг импортлоно\n",
        "\n",
        "def read_net_w(filename):  # 'read_net_w' нэртэй функц тодорхойлж, файлын нэрийг параметрээр авна\n",
        "    g = nx.Graph()  # Хоосон график объектийг (g) үүсгэнэ, энэ нь харилцаануудыг хадгална\n",
        "    with open(filename) as f:  # Файлыг уншихын тулд нээнэ, 'f' нь файлын объект болно\n",
        "        f.readline()  # Файлын эхний мөрийг уншиж алгасна учир нь толгой хэсэг байдаг.\n",
        "        for l in f:  # Файлын үлдсэн мөрүүдийг давталтанд оруулан мөр бүрээр уншина\n",
        "            l = l.split(\",\")  # Мөрийг таслалаар тусгаарлаж, жагсаалт болгон хуваана\n",
        "            g.add_edge(l[0], l[1], weight=int(l[2]))  # Графикт хослол нэмнэ: эхний хоёр элемент нь зангилаанууд, гурав дахь нь жин (тоо(int) болгон хөрвүүлнэ)\n",
        "    return g  # график объектыг буцаана\n",
        "\n",
        "# Game of Thrones-ийн өгөгдөл\n",
        "g = read_net_w('/content/got-s6-edges.csv')  # 'got-s6-edges.csv' файлаас график үүсгэх функцийг дуудна"
      ],
      "metadata": {
        "id": "sCU2FzDcMd7l"
      },
      "execution_count": 22,
      "outputs": []
    },
    {
      "cell_type": "markdown",
      "source": [
        "#2.B Удирдлагагүй сургалтын таамаглагч тооцоолох\n",
        "linkpred нь 4 бүлэг удирдлагагүй сургалтын таамаглагчид өргөн хэрэглэгдэж байна. Үүнд:\n",
        "Neighborhood:\n",
        " AdamicAdar, AssociationStrength, CommonNeighbours, Cosine, DegreeProduct,\n",
        "Jaccard, MaxOverlap, MinOverlap, NMeasure, Pearson,ResourceAllocation\n",
        "Paths:\n",
        "GraphDistance, Katz\n",
        "Ranking:\n",
        "SimRank, RootedPageRank\n",
        "Miscellanea:\n",
        "Community, Copy, Random\n",
        "Энэ лаборатороор бид цөөн хэдэн аргыг орууллаа.\n",
        "Энгийн ойлгомжтой байлгахын тулд бид сонгогдсон таамаглагч бүрт топ-5 нь үр дүнг харууллаа.\n",
        "#2.B.1 Neighborhood\n",
        "Эхний хэсэг бүлэг таамаглагч бол зангилаа бүрийн хувьд холбогдох боломжтой хос оройг уг хоёр оройн\n",
        "хөрш оройнуудтайгаа хэр хүчтэй сул холбогдсон байдлаас үүдэн холбоосыг\n",
        "үүсэх эсэх магадлалаар олдог.\n",
        "Энэ төрлийн таамаглагчид нь дараах асуултанд хариулт олохыг хичээдэг. How many friend we have to\n",
        "share in order to become friends?\n",
        "#Common Neighbors\n",
        "Илүү олон дундын найзуудтай бол бид найз болох магадлал өндөр байна."
      ],
      "metadata": {
        "id": "tkre0iimN3iV"
      }
    },
    {
      "cell_type": "code",
      "source": [
        "cn = linkpred.predictors.CommonNeighbours(g, excluded=g.edges())  # CommonNeighbours урьдчилан таамаглагчийг эхлүүлнэ; 'g' графикаас одоо байгаа холбоосуудыг хасан шинэ холбоос таамаглана\n",
        "cn_results = cn.predict()  # График дээрх боломжит шинэ холбоосуудыг таамаглаж, үр дүнг хадгална\n",
        "\n",
        "top = cn_results.top(5)  # Таамаглалын үр дүнгээс хамгийн өндөр оноотой 5 холбоосыг сонгоно\n",
        "for edge, score in top.items():  # Сонгогдсон холбоос бүр дээр давталт ажиллуулж, зангилааны хос ба оноог хэвлэнэ\n",
        "    print(edge, score)  # Зангилааны хос (edge) болон түүний оноог (score) хэвлэнэ"
      ],
      "metadata": {
        "colab": {
          "base_uri": "https://localhost:8080/"
        },
        "id": "LYURYhgeN4lr",
        "outputId": "7c270c6a-d965-469b-ddec-8349d231a4ee"
      },
      "execution_count": 23,
      "outputs": [
        {
          "output_type": "stream",
          "name": "stdout",
          "text": [
            "TOMMEN - MACE 8.0\n",
            "NED - LADY_CRANE 8.0\n",
            "NED - CLARENZO 8.0\n",
            "MARGAERY - IZEMBARO 8.0\n",
            "MARGAERY - ARYA 8.0\n"
          ]
        }
      ]
    },
    {
      "cell_type": "markdown",
      "source": [
        "#Jaccard\n",
        "Топологи бүтэц болон аттрибутуудын ижил төсөөтэй байдал нь найз болох эсэхийг тодорхойлно.\n"
      ],
      "metadata": {
        "id": "jcOsKQseOQaP"
      }
    },
    {
      "cell_type": "code",
      "source": [
        "jc = linkpred.predictors.Jaccard(g, excluded=g.edges())  # Jaccard урьдчилан таамаглагчийг эхлүүлнэ; 'g' графикаас одоо байгаа холбоосуудыг хасан шинэ холбоос таамаглана\n",
        "jc_results = jc.predict()  # График дээрх боломжит шинэ холбоосуудыг Jaccard-ийн аргаар таамаглаж, үр дүнг хадгална\n",
        "\n",
        "top = jc_results.top(5)  # Таамаглалын үр дүнгээс хамгийн өндөр оноотой 5 холбоосыг сонгоно\n",
        "for edge, score in top.items():  # Сонгогдсон холбоос бүр дээр давталт ажиллуулж, зангилааны хос ба оноог хэвлэнэ\n",
        "    print(edge, score)  # Зангилааны хос (edge) болон түүний Jaccard оноог (score) хэвлэнэ"
      ],
      "metadata": {
        "colab": {
          "base_uri": "https://localhost:8080/"
        },
        "id": "HWAoON8VORK4",
        "outputId": "f82d198b-a40c-4058-c812-245d9584a65b"
      },
      "execution_count": 24,
      "outputs": [
        {
          "output_type": "stream",
          "name": "stdout",
          "text": [
            "RED_PRIEST - KINVARA 1.0\n",
            "LITTLE_SAM - DICKON 1.0\n",
            "TOMMEN - MACE 0.7272727272727273\n",
            "JOFFREY - CAMELLO 0.7272727272727273\n",
            "OLD_NAN - BENJEN 0.7142857142857143\n"
          ]
        }
      ]
    },
    {
      "cell_type": "markdown",
      "source": [
        "#Adamic Adar\n",
        "Бидний дундын найзын тоо нь биднийг найз болох эсэхийг тодорхойлоход ашиглагдана."
      ],
      "metadata": {
        "id": "iqiWwe4POdBk"
      }
    },
    {
      "cell_type": "code",
      "source": [
        "aa = linkpred.predictors.AdamicAdar(g, excluded=g.edges())  # AdamicAdar урьдчилан таамаглагчийг эхлүүлнэ; 'g' графикаас одоо байгаа холбоосуудыг хасан шинэ холбоос таамаглана\n",
        "aa_results = aa.predict()  # График дээрх боломжит шинэ холбоосуудыг Adamic-Adar аргаар таамаглаж, үр дүнг хадгална\n",
        "\n",
        "top = aa_results.top(5)  # Таамаглалын үр дүнгээс хамгийн өндөр оноотой 5 холбоосыг сонгоно\n",
        "for edge, score in top.items():  # Сонгогдсон холбоос бүр дээр давталт ажиллуулж, зангилааны хос ба оноог хэвлэнэ\n",
        "    print(edge, score)  # Зангилааны хос (edge) болон түүний Adamic-Adar оноог (score) хэвлэнэ"
      ],
      "metadata": {
        "colab": {
          "base_uri": "https://localhost:8080/"
        },
        "id": "ci18h3MSOdz2",
        "outputId": "e9a9e588-70c1-464d-c0a1-612de9a2e461"
      },
      "execution_count": 25,
      "outputs": [
        {
          "output_type": "stream",
          "name": "stdout",
          "text": [
            "TOMMEN - MACE 3.1875572810307893\n",
            "NED - LADY_CRANE 3.1263711657257836\n",
            "NED - CLARENZO 3.1263711657257836\n",
            "SANSA - ROBB 3.0966443151332466\n",
            "JOFFREY - CAMELLO 2.8944937119329137\n"
          ]
        }
      ]
    },
    {
      "cell_type": "markdown",
      "source": [
        "#2.B.2 Paths\n",
        "Хоёрдогч төрлийн таамаглагчид нь хос оройн хоорондын зайнаас хамаарч тэд ирээдүйд холбогдох\n",
        "эсэхийг магадлаар боддог.\n",
        "Энэ төрлийн таамаглагчид нь дараах асуултад хариулт олохыг хичээдэг: How distant are we?\n",
        "#Katz\n",
        "Katz computes the weighted sum over all the paths between two nodes."
      ],
      "metadata": {
        "id": "kd52LZtGOsSZ"
      }
    },
    {
      "cell_type": "code",
      "source": [
        "kz = linkpred.predictors.Katz(g, excluded=g.edges())  # Katz урьдчилан таамаглагчийг эхлүүлнэ; 'g' графикаас одоо байгаа холбоосуудыг хасан шинэ холбоос таамаглана\n",
        "kz_results = kz.predict()  # График дээрх боломжит шинэ холбоосуудыг Katz-ийн аргаар таамаглаж, үр дүнг хадгална\n",
        "\n",
        "top = kz_results.top(5)  # Таамаглалын үр дүнгээс хамгийн өндөр оноотой 5 холбоосыг сонгоно\n",
        "for edge, score in top.items():  # Сонгогдсон холбоос бүр дээр давталт ажиллуулж, зангилааны хос ба оноог хэвлэнэ\n",
        "    print(edge, score)  # Зангилааны хос (edge) болон түүний Katz оноог (score) хэвлэнэ"
      ],
      "metadata": {
        "colab": {
          "base_uri": "https://localhost:8080/"
        },
        "id": "3oW-iiO6OwiM",
        "outputId": "40e31141-7996-4665-9681-562576c8aaf6"
      },
      "execution_count": 26,
      "outputs": [
        {
          "output_type": "stream",
          "name": "stdout",
          "text": [
            "\n",
            "LADY_CRANE - JAQEN 0.005571576860773001\n",
            "SANSA - ALLISER_THORNE 0.004234378077202\n",
            "TYRION - DAARIO 0.004145905054793999\n",
            "CERSEI - BRIENNE 0.0038862606857720003\n",
            "MELISANDRE - LYANNA_MORMONT 0.0035937193855959996\n"
          ]
        }
      ]
    },
    {
      "cell_type": "markdown",
      "source": [
        "#Graph Distance\n",
        "Графын зай буюу Distance нь хоёр оройн хоорондын богино замын уртаар тодорхойлогдоно.\n"
      ],
      "metadata": {
        "id": "5U350ylCO3ku"
      }
    },
    {
      "cell_type": "code",
      "source": [
        "gd = linkpred.predictors.GraphDistance(g, excluded=g.edges())  # GraphDistance урьдчилан таамаглагчийг эхлүүлнэ; 'g' графикаас одоо байгаа холбоосуудыг хасан шинэ холбоос таамаглана\n",
        "gd_results = gd.predict()  # График дээрх боломжит шинэ холбоосуудыг GraphDistance аргаар таамаглаж, үр дүнг хадгална\n",
        "\n",
        "top = gd_results.top(5)  # Таамаглалын үр дүнгээс хамгийн өндөр оноотой 5 холбоосыг сонгоно (гэдэг ч GraphDistance-д \"бага\" зай илүү утгатай байж болно)\n",
        "for edge, score in top.items():  # Сонгогдсон холбоос бүр дээр давталт ажиллуулж, зангилааны хос ба оноог хэвлэнэ\n",
        "    print(edge, score)  # Зангилааны хос (edge) болон түүний GraphDistance оноог (score) хэвлэнэ"
      ],
      "metadata": {
        "colab": {
          "base_uri": "https://localhost:8080/"
        },
        "id": "alpdQ1FIPEcM",
        "outputId": "58827e4e-6fda-43f5-88f5-8e485d803dcb"
      },
      "execution_count": 27,
      "outputs": [
        {
          "output_type": "stream",
          "name": "stdout",
          "text": [
            "LADY_CRANE - JAQEN 36.136054421768705\n",
            "TYRION - DAARIO 30.29268292682927\n",
            "CERSEI - BRIENNE 28.44827586206896\n",
            "MELISANDRE - LITTLEFINGER 23.427491305005294\n",
            "CERSEI - BRONN 23.294117647058822\n"
          ]
        }
      ]
    },
    {
      "cell_type": "markdown",
      "source": [
        "#2.B.3 Rankig\n",
        "Гуравдагч бүлэг таамаглагчид нь граф дахь хос оройнуудын байрлалаас хамаарч холбогдох магадлалыг\n",
        "тооцоолно.\n",
        "Дараах асуултанд хариулж буй байдлаас хамаарч тодорхойлогдоно: *How similar are we?\n",
        "#SimRank\n",
        "Хоёр зангилаа холбоосоор холбогдохын тул тэдгээрийн хөрш оройнууд ижил төсөөтэй байх хэрэгтэй."
      ],
      "metadata": {
        "id": "rcfOXpQxPAMs"
      }
    },
    {
      "cell_type": "code",
      "source": [
        "simrank = linkpred.predictors.SimRank(g, excluded=g.edges())  # SimRank урьдчилан таамаглагчийг эхлүүлнэ; 'g' графикаас одоо байгаа холбоосуудыг хасан шинэ холбоос таамаглана\n",
        "simrank_results = simrank.predict(c=0.5)  # SimRank аргаар боломжит шинэ холбоосуудыг таамаглаж, үр дүнг хадгална; 'c=0.5' нь буурах коэффициент (decay factor) бөгөөд ижил төстэй байдлыг тооцоход ашиглана\n",
        "\n",
        "top = simrank_results.top(5)  # Таамаглалын үр дүнгээс хамгийн өндөр оноотой 5 холбоосыг сонгоно\n",
        "for edge, score in top.items():  # Сонгогдсон холбоос бүр дээр давталт ажиллуулж, зангилааны хос ба оноог хэвлэнэ\n",
        "    print(edge, score)  # Зангилааны хос (edge) болон түүний SimRank оноог (score) хэвлэнэ"
      ],
      "metadata": {
        "colab": {
          "base_uri": "https://localhost:8080/"
        },
        "id": "KrFSSqkGPB9p",
        "outputId": "b7dc4a6c-4ceb-4865-95ea-a2336dcd078a"
      },
      "execution_count": 28,
      "outputs": [
        {
          "output_type": "stream",
          "name": "stdout",
          "text": [
            "MAESTER_CITADEL - MAESTER_AEMON 0.3920701611834253\n",
            "RAY - GATINS 0.3886464843365491\n",
            "GATINS - BERIC 0.3675791855431439\n",
            "THOROS - GATINS 0.3636591552182033\n",
            "MAESTER_AEMON - GILLY 0.319889623157789\n"
          ]
        }
      ]
    },
    {
      "cell_type": "markdown",
      "source": [
        "#2.B.4 Miscellanea\n",
        "Энэ нь холбоосыг таамаглахдаа санамсаргүй байдлаар сонгож авдаг.\n",
        "linkpred groups here approaches that are commonly used as baselines.\n",
        "#Random\n",
        "Санамсаргүй байдлаар таах.\n"
      ],
      "metadata": {
        "id": "smj995mfPTN9"
      }
    },
    {
      "cell_type": "code",
      "source": [
        "rnd = linkpred.predictors.Random(g, excluded=g.edges())  # g сүлжээнд суурилсан санамсаргүй холбоос таамаглагчийг үүсгэнэ, одоо байгаа холбоосуудыг (edges) хасна\n",
        "rnd_results = rnd.predict()  # Санамсаргүй таамаглагчийн үр дүнг тооцоолж, rnd_results хувьсагчид хадгална\n",
        "top = rnd_results.top(5)  # rnd_results-ээс хамгийн өндөр оноотой 5 холбоосыг сонгоно\n",
        "for edge, score in top.items():  # top-н элементүүдийг (холбоос ба оноо) давтан хэвлэнэ\n",
        "    print(edge, score)  # Холбоос (edge) болон түүний оноог (score) хэвлэнэ"
      ],
      "metadata": {
        "colab": {
          "base_uri": "https://localhost:8080/"
        },
        "id": "B_2Ggf47PU6x",
        "outputId": "0f11c74b-6d0d-4fb0-9d67-d1462fc77d95"
      },
      "execution_count": 29,
      "outputs": [
        {
          "output_type": "stream",
          "name": "stdout",
          "text": [
            "IZEMBARO - BLACK_WALDER 0.9999940444679002\n",
            "PODRICK - BOBONO 0.9999774122300122\n",
            "BRYNDEN - ALLISER_THORNE 0.9999662579951368\n",
            "JAIME - EURON 0.9998960941874214\n",
            "SHIREEN - BOBONO 0.999416590463767\n"
          ]
        }
      ]
    },
    {
      "cell_type": "markdown",
      "source": [
        "#2.C Ялгаатай таамаглагчидын харьцуулах болон үнэлэх\n",
        "Холбоосуудыг үүсэх эсэхыг таамаглахдаа бид сургалтын болон тестийн өгөгдлүүдтэй ажиллаж\n",
        "шалгана. Өгөгдлөө сургалтын болон тестийн болгон хуваах шаардлагатай."
      ],
      "metadata": {
        "id": "EmG-TyTEPpZ_"
      }
    },
    {
      "cell_type": "code",
      "source": [
        "import random  # Санамсаргүй тоо, сонголт хийхэд ашиглагддаг модулийг импортлоно\n",
        "import itertools  # Хослол, давталттай ажиллахад туслах модулийг импортлоно\n",
        "from linkpred.evaluation import Pair  # linkpred сангаас Pair классыг импортлоно, энэ нь хосыг (node pair) төлөвллөхөд хэрэглэгдэнэ\n",
        "test = read_net_w(f'/content/got-s7-edges.csv')  # \"got-s7-edges.csv\" файлаас сүлжээний өгөгдлийг уншиж, test хувьсагчид хадгална\n",
        "training = g.copy()  # g сүлжээний хуулбарыг хийж, training хувьсагчид хадгална\n",
        "nodes = list(g.nodes())  # g сүлжээн дэх бүх зангилааг жагсаалт болгон хадгална\n",
        "nodes.extend(list(test.nodes()))  # test сүлжээн дэх зангилаануудыг nodes жагсаалтад нэмнэ\n",
        "\n",
        "test = [Pair(i) for i in test.edges()]  # test сүлжээний холбоосуудыг (edges) Pair объект болгон хөрвүүлж, жагсаалт хэлбэрээр хадгална\n",
        "universe = set([Pair(i) for i in itertools.product(nodes, nodes) if i[0] != i[1]])  # Бүх боломжит зангилааны хослолуудыг (өөрөөсөө өөртэй холбоосгүй) Pair болгон хөрвүүлж, set хэлбэрээр хадгална"
      ],
      "metadata": {
        "id": "k1CxVdgiPqs9"
      },
      "execution_count": 30,
      "outputs": []
    },
    {
      "cell_type": "markdown",
      "source": [
        "**Дараагаар нь бид сургалтын өгөгдөл дээрээ таамаглагчаа ажиллуулна**"
      ],
      "metadata": {
        "id": "MPu9E3AWQ2UZ"
      }
    },
    {
      "cell_type": "code",
      "source": [
        "cn = linkpred.predictors.CommonNeighbours(training, excluded=training.edges())  # training сүлжээнд Common Neighbours алгоритмыг ашиглан таамаглагч үүсгэнэ, одоо байгаа холбоосуудыг хасна\n",
        "cn_results = cn.predict()  # Common Neighbours алгоритмаар таамаглал хийж, үр дүнг cn_results хувьсагчид хадгална\n",
        "\n",
        "aa = linkpred.predictors.AdamicAdar(training, excluded=training.edges())  # training сүлжээнд Adamic-Adar алгоритмыг ашиглан таамаглагч үүсгэнэ, одоо байгаа холбоосуудыг хасна\n",
        "aa_results = aa.predict()  # Adamic-Adar алгоритмаар таамаглал хийж, үр дүнг aa_results хувьсагчид хадгална\n",
        "\n",
        "jc = linkpred.predictors.Jaccard(training, excluded=training.edges())  # training сүлжээнд Jaccard алгоритмыг ашиглан таамаглагч үүсгэнэ, одоо байгаа холбоосуудыг хасна\n",
        "jc_results = jc.predict()  # Jaccard алгоритмаар таамаглал хийж, үр дүнг jc_results хувьсагчид хадгална"
      ],
      "metadata": {
        "id": "PXlLwNl1Q3IE"
      },
      "execution_count": 31,
      "outputs": []
    },
    {
      "cell_type": "markdown",
      "source": [
        "**Тэгээд бид тестийн өгөгдлөө ашиглан таамаглагч хэр үнэн таамаглаж буй үнэлнэ**"
      ],
      "metadata": {
        "id": "qY3MPwqwQ_xo"
      }
    },
    {
      "cell_type": "code",
      "source": [
        "cn_evaluation = linkpred.evaluation.EvaluationSheet(cn_results, test, universe)\n",
        "# cn_results-ийн таамаглалыг test багц болон universe багцтай харьцуулж үнэлгээний хуудас үүсгэнэ\n",
        "\n",
        "aa_evaluation = linkpred.evaluation.EvaluationSheet(aa_results, test, universe)\n",
        "# aa_results-ийн таамаглалыг test багц болон universe багцтай харьцуулж үнэлгээний хуудас үүсгэнэ\n",
        "\n",
        "jc_evaluation = linkpred.evaluation.EvaluationSheet(jc_results, test, universe)\n",
        "# jc_results-ийн таамаглалыг test багц болон universe багцтай харьцуулж үнэлгээний хуудас үүсгэнэ"
      ],
      "metadata": {
        "id": "RMXFobGOROuH"
      },
      "execution_count": 32,
      "outputs": []
    },
    {
      "cell_type": "markdown",
      "source": [
        "**Үр дүнгүүдээ тайлбарлахдаа бид ROC -ийн муруй ашиглан дүрслэнэ.**"
      ],
      "metadata": {
        "id": "Giaj4OAXRH-c"
      }
    },
    {
      "cell_type": "code",
      "source": [
        "plt.plot(cn_evaluation.fallout(), cn_evaluation.recall(), label=\"Commonjenis\")\n",
        " # cn_evaluation-ийн FPR (fallout) болон TPR (recall)-ийг графикт зурж, шошгыг \"Common Neighbors\" гэж тавина\n",
        "\n",
        "plt.plot(aa_evaluation.fallout(), aa_evaluation.recall(), label=\"Adamic Adar\")\n",
        "# aa_evaluation-ийн FPR (fallout) болон TPR (recall)-ийг графикт зурж, шошгыг \"Adamic Adar\" гэж тавина\n",
        "\n",
        "plt.plot(jc_evaluation.fallout(), jc_evaluation.recall(), label=\"Jaccard\")\n",
        "# jc_evaluation-ийн FPR (fallout) болон TPR (recall)-ийг графикт зурж, шошгыг \"Jaccard\" гэж тавина\n",
        "\n",
        "plt.ylabel(\"TPR\")\n",
        "# Y тэнхлэгт \"True Positive Rate\" (TPR буюу Recall) гэж тэмдэглэнэ\n",
        "\n",
        "plt.xlabel(\"FPR\")\n",
        "# X тэнхлэгт \"False Positive Rate\" (FPR буюу Fallout) гэж тэмдэглэнэ\n",
        "\n",
        "plt.legend()  # График дээрх алгоритмуудын шошгыг (legend) харуулна\n",
        "plt.show()  # Бүх тохиргоог дуусгаж, графикийг харагдуулна"
      ],
      "metadata": {
        "colab": {
          "base_uri": "https://localhost:8080/",
          "height": 449
        },
        "id": "LDRKw0d2RI86",
        "outputId": "3648b7e2-4b0f-4f04-c627-2f7db5bff517"
      },
      "execution_count": 33,
      "outputs": [
        {
          "output_type": "display_data",
          "data": {
            "text/plain": [
              "<Figure size 640x480 with 1 Axes>"
            ],
            "image/png": "[encoded data removed]"
          },
          "metadata": {}
        }
      ]
    },
    {
      "cell_type": "markdown",
      "source": [
        "**Үр дүнгээ нэгтгэн тайлбарлах, дүгнэхэд хамгийн тохиромжтой, энгийн арга нь ROC муруй болон үүн дээр AUC бодож үзэх юм.**"
      ],
      "metadata": {
        "id": "MXOVBMk2RZy1"
      }
    },
    {
      "cell_type": "code",
      "source": [
        "from sklearn.metrics import auc  # ROC муруйн доорх талбайг тооцоолох auc функцийг импортлоно\n",
        "\n",
        "print(\"Area Under Roc Curve (AUROC)\")  # гарчиг хэвлэнэ\n",
        "print(f\"Common Neigh.: \\t {auc(cn_evaluation.fallout(), cn_evaluation.recall())}\")\n",
        "# Common Neighbors-ийн FPR ба TPR-ийг ашиглан AUROC-ийг тооцоолж, хэвлэнэ\n",
        "\n",
        "print(f\"Adamic Adar: \\t {auc(aa_evaluation.fallout(), aa_evaluation.recall())}\")\n",
        "# Adamic-Adar-ийн FPR ба TPR-ийг ашиглан AUROC-ийг тооцоолж, хэвлэнэ\n",
        "\n",
        "print(f\"Jaccard: \\t {auc(jc_evaluation.fallout(), jc_evaluation.recall())}\")\n",
        "# Jaccard-ийн FPR ба TPR-ийг ашиглан AUROC-ийг тооцоолж, хэвлэнэ"
      ],
      "metadata": {
        "colab": {
          "base_uri": "https://localhost:8080/"
        },
        "id": "EFpiE3KWRbvb",
        "outputId": "764b4e97-8a96-408e-9cb5-91725240a783"
      },
      "execution_count": 34,
      "outputs": [
        {
          "output_type": "stream",
          "name": "stdout",
          "text": [
            "Area Under Roc Curve (AUROC)\n",
            "Common Neigh.: \t 0.026832485313825823\n",
            "Adamic Adar: \t 0.02725982481278175\n",
            "Jaccard: \t 0.018894838921578106\n"
          ]
        }
      ]
    },
    {
      "cell_type": "markdown",
      "source": [
        "#Даалгавар:\n",
        "1. Jaccard болон Adamic Adar хоёр яагаад ялгаатай үр дүн үзүүлж байна вэ? Тайлбарлана уу\n",
        "#Jaccard коэффициент:\n",
        "Тодорхойлолт: Jaccard алгоритм нь хоёр зангилааны (nodes) нийтлэг хөршүүдийн тоог тэдгээрийн нийт хөршүүдийн нэгдэлд харьцуулдаг. Математикийн хувьд:\n",
        "𝐽\n",
        "(\n",
        "𝐴\n",
        ",\n",
        "𝐵\n",
        ")\n",
        "=\n",
        "∣\n",
        "𝑁\n",
        "(\n",
        "𝐴\n",
        ")\n",
        "∩\n",
        "𝑁\n",
        "(\n",
        "𝐵\n",
        ")\n",
        "∣\n",
        "∣\n",
        "𝑁\n",
        "(\n",
        "𝐴\n",
        ")\n",
        "∪\n",
        "𝑁\n",
        "(\n",
        "𝐵\n",
        ")\n",
        "∣\n",
        "J(A,B)=\n",
        "∣N(A)∪N(B)∣\n",
        "∣N(A)∩N(B)∣\n",
        "​\n",
        "\n",
        "\n",
        "#Adamic-Adar индекс:\n",
        "Тодорхойлолт: Adamic-Adar нь нийтлэг хөршүүдийг тооцоолохдоо тэдгээрийн degree-ийг (холбоосын тоо) харгалзан, цөөн холбоостой хөршүүдэд илүү жин өгдөг. Математикийн хувьд:\n",
        "𝐴\n",
        "𝐴\n",
        "(\n",
        "𝐴\n",
        ",\n",
        "𝐵\n",
        ")\n",
        "=\n",
        "∑\n",
        "𝑧\n",
        "∈\n",
        "𝑁\n",
        "(\n",
        "𝐴\n",
        ")\n",
        "∩\n",
        "𝑁\n",
        "(\n",
        "𝐵\n",
        ")\n",
        "1\n",
        "log\n",
        "⁡\n",
        "(\n",
        "∣\n",
        "𝑁\n",
        "(\n",
        "𝑧\n",
        ")\n",
        "∣\n",
        ")\n",
        "AA(A,B)=\n",
        "z∈N(A)∩N(B)\n",
        "∑\n",
        "​\n",
        "  \n",
        "log(∣N(z)∣)\n",
        "1\n",
        "​\n",
        "#Ялгаатай үр дүн үзүүлсэн нь: Jaccard нь нийтлэг хөршүүдийн харьцангуй хувийг хардаг бол Adamic-Adar нь нийтлэг хөршүүдийн чухал байдлыг (degree-ийн эсрэгээр) тусгадаг. Тиймээс энэ кодод AUROC утгууд ялгаатай гарсан нь эдгээр алгоритмууд сүлжээний өгөгдлийг өөр өөрөөр тайлбарласантай холбоотой.\n"
      ],
      "metadata": {
        "id": "V1jTLdVfTKny"
      }
    },
    {
      "cell_type": "markdown",
      "source": [
        "#Даалгавар:\n",
        "2. linkpred санг ашиглан desicion tree алгоритмаар холбоосыг илрүүлж болох уу.\n",
        "\n",
        "#Шууд боломжгүй: linkpred сан Decision Tree-г шууд санал болгодоггүй.\n",
        "#Хослуулж болно: linkpred-ээр шинж чанар бэлтгээд, sklearn-ийн Decision Tree-г ашиглан холбоос таамаглаж болно."
      ],
      "metadata": {
        "id": "qPy3LvaRUPiu"
      }
    },
    {
      "cell_type": "code",
      "source": [],
      "metadata": {
        "id": "rimwdw9sUV2W"
      },
      "execution_count": null,
      "outputs": []
    }
  ]
}