{
  "cells": [
    {
      "cell_type": "code",
      "source": [
        "!pip install dynetx"
      ],
      "metadata": {
        "id": "YBmKfV2nDMmT",
        "outputId": "00b8f495-75d9-426f-acab-656b71e7a2a6",
        "colab": {
          "base_uri": "https://localhost:8080/"
        }
      },
      "execution_count": null,
      "outputs": [
        {
          "metadata": {
            "tags": null
          },
          "name": "stdout",
          "output_type": "stream",
          "text": [
            "Collecting dynetx\n",
            "  Downloading dynetx-0.3.2-py3-none-any.whl.metadata (2.9 kB)\n",
            "Requirement already satisfied: numpy in /usr/local/lib/python3.11/dist-packages (from dynetx) (2.0.2)\n",
            "Requirement already satisfied: future in /usr/local/lib/python3.11/dist-packages (from dynetx) (1.0.0)\n",
            "Requirement already satisfied: tqdm in /usr/local/lib/python3.11/dist-packages (from dynetx) (4.67.1)\n",
            "Requirement already satisfied: networkx in /usr/local/lib/python3.11/dist-packages (from dynetx) (3.4.2)\n",
            "Requirement already satisfied: decorator in /usr/local/lib/python3.11/dist-packages (from dynetx) (4.4.2)\n",
            "Downloading dynetx-0.3.2-py3-none-any.whl (39 kB)\n",
            "Installing collected packages: dynetx\n",
            "Successfully installed dynetx-0.3.2\n"
          ]
        }
      ]
    },
    {
      "cell_type": "code",
      "source": [
        "import dynetx as dn  # dynetx номын санг импортлож, динамик граф үүсгэхэд ашиглана\n",
        "import networkx as nx  # networkx номын санг импортлож, графын бүтэцтэй ажиллахад ашиглана\n",
        "import random  # Санамсаргүй тоо үүсгэхэд ашиглагдана\n",
        "\n",
        "def read_net(filename):  # Файлаас граф унших функц тодорхойлж байна\n",
        "    g = nx.Graph()  # Хоосон граф үүсгэж байна\n",
        "    with open(filename) as f:  # Файлыг унших горимоор нээнэ\n",
        "        f.readline()  # Эхний мөрийг уншиж алгасна (ихэвчлэн толгой мөрийг алгасах зорилготой)\n",
        "        for l in f:  # Үлдсэн мөрүүдийг дарааллаар уншина\n",
        "            l = l.split(\",\")  # Мөрийг таслал (\",\") ашиглан задлана\n",
        "            g.add_edge(l[0], l[1])  # Граф дээр ирмэг (edge) нэмнэ\n",
        "    return g  # Үүсгэсэн графыг буцаана\n",
        "\n",
        "g = dn.DynGraph()  # Хоосон динамик граф үүсгэж байна (DynGraph нь өөрчлөгдөж болох граф юм)\n"
      ],
      "metadata": {
        "id": "xuF6zXbaD0sC"
      },
      "execution_count": null,
      "outputs": []
    },
    {
      "cell_type": "markdown",
      "source": [
        "#Динамик сүлжээг үүсгэх\n",
        "Нэг динамик сүлжээг ирмэгүүдийг нэмэх замааар үүсгэлээ. Жишээлбэл, 10 ER графуудыг\n",
        "үүсгэсэн ба энэ нь ижилхэн динамик системийн ялгаатай ялгаатай топологиудыг\n",
        "илэрхийлнэ.\n"
      ],
      "metadata": {
        "id": "kRkNYWLvD5x5"
      }
    },
    {
      "cell_type": "code",
      "source": [
        "for t in range(1, 9):  # t хувьсагчийг 1-ээс 8 хүртэл давталтаар ажиллуулна (нийт 8 удаа давтана)\n",
        "    er = read_net(f'/content/got-s6-edges.csv')  # \"got-s{t}-edges.csv\" нэртэй файлыг уншиж, граф үүсгэнэ\n",
        "    g.add_interactions_from(er.edges, t=t)  # Файлаас уншсан графын ирмэгүүдийг (edges) динамик граф (g)-д тодорхой хугацааны (t) утгатайгаар нэмнэ\n"
      ],
      "metadata": {
        "id": "2RtJrxWmD8ZU"
      },
      "execution_count": null,
      "outputs": []
    },
    {
      "cell_type": "markdown",
      "source": [
        "**Бид снапшотын ID дугааруудыг дараах байдлаар авч чадна**"
      ],
      "metadata": {
        "id": "4OUCOx9XEdeI"
      }
    },
    {
      "cell_type": "code",
      "source": [
        "g.temporal_snapshots_ids()  # Динамик графын бүх цаг хугацааны (t) агшны (snapshot) ID-уудыг буцаана"
      ],
      "metadata": {
        "id": "QX1bu8NJEe5m",
        "outputId": "925ddfe8-fa7a-4c07-f49e-0936d49570a9",
        "colab": {
          "base_uri": "https://localhost:8080/"
        }
      },
      "execution_count": null,
      "outputs": [
        {
          "output_type": "execute_result",
          "data": {
            "text/plain": [
              "[1, 2, 3, 4, 5, 6, 7, 8]"
            ]
          },
          "metadata": {},
          "execution_count": 5
        }
      ]
    },
    {
      "cell_type": "markdown",
      "source": [
        "**Цаашлаад бид снапшот бүрийн ID-г нь ашиглан тухайн снапшотод хандах боломжтой.**"
      ],
      "metadata": {
        "id": "ZkWWIoMfEn2S"
      }
    },
    {
      "cell_type": "code",
      "source": [
        "g1 = g.time_slice(1)  # `t=1` агшны (snapshot) графыг `g1` хувьсагчид хадгална"
      ],
      "metadata": {
        "id": "eP2xk4HqEzIO"
      },
      "execution_count": null,
      "outputs": []
    },
    {
      "cell_type": "code",
      "source": [
        "type(g1)  # g1 графын төрлийг тодорхойлно (DynGraph объект)\n",
        "g1.number_of_nodes()  # g1 граф дахь нийт оройн тоог (узлүүдийн тоо) буцаана\n",
        "g1.number_of_edges()  # g1 граф дахь нийт ирмэгийн (холболтуудын) тоог буцаана\n"
      ],
      "metadata": {
        "id": "3Em5uAp8E-zK",
        "outputId": "43f956fc-10c6-4d2d-e1ba-a7ad00353003",
        "colab": {
          "base_uri": "https://localhost:8080/"
        }
      },
      "execution_count": null,
      "outputs": [
        {
          "output_type": "execute_result",
          "data": {
            "text/plain": [
              "541"
            ]
          },
          "metadata": {},
          "execution_count": 7
        }
      ]
    },
    {
      "cell_type": "markdown",
      "source": [
        "Дараах байдлаар хугацааграа хуваагдсан снапшотуудыг time window болгон хөрвүүлж\n",
        "болно.\n"
      ],
      "metadata": {
        "id": "JZOa-YJjFEtY"
      }
    },
    {
      "cell_type": "code",
      "source": [
        "g0_3 = g.time_slice(0, 3)  # g графаас цаг хугацааны интервал [0,3] дахь дэд графыг (subgraph) гаргаж авна\n"
      ],
      "metadata": {
        "id": "FWBzvo9sFbB4"
      },
      "execution_count": null,
      "outputs": []
    },
    {
      "cell_type": "code",
      "source": [
        "type(g0_3)  # g0_3 графын төрлийг тодорхойлно (DynGraph объект)\n",
        "g0_3.number_of_nodes()  # g0_3 граф дахь нийт оройн (нүдний) тоог буцаана\n",
        "g0_3.number_of_edges()  # g0_3 граф дахь нийт ирмэгийн (холболтын) тоог буцаана"
      ],
      "metadata": {
        "id": "_jLwuosQFfom",
        "outputId": "eff759fe-6055-4b1f-8d6b-bb2e2c39fcfa",
        "colab": {
          "base_uri": "https://localhost:8080/"
        }
      },
      "execution_count": null,
      "outputs": [
        {
          "output_type": "execute_result",
          "data": {
            "text/plain": [
              "541"
            ]
          },
          "metadata": {},
          "execution_count": 17
        }
      ]
    },
    {
      "cell_type": "markdown",
      "source": [
        "Хэрэв хуваагдсан нэг снапшотыг шинжлэхээр бол networkx эсвэл dynetx - ийн функцүүдийг\n",
        "ашиглах боломжтой гэсэн үг. **bold text**"
      ],
      "metadata": {
        "id": "XGQ8fqQJF8_g"
      }
    },
    {
      "cell_type": "code",
      "source": [
        "# g1 графаас бүх ирмэгүүдийг авч, энгийн граф (Graph) үүсгэнэ\n",
        "g1_flat = nx.Graph(g1.edges())\n",
        "\n",
        "# g1_flat графын төрлийг тодорхойлно (NetworkX-ийн энгийн Graph объект)\n",
        "print(type(g1_flat))\n",
        "\n",
        "# g1_flat граф дахь нийт оройн (нүдний) тоог буцаана\n",
        "print(g1_flat.number_of_nodes())\n",
        "\n",
        "# g1_flat граф дахь нийт ирмэгийн (холболтын) тоог буцаана\n",
        "print(g1_flat.number_of_edges())\n"
      ],
      "metadata": {
        "id": "B3bAZCXrF_0d",
        "outputId": "bf2ec0c3-ac87-4062-83f3-0e94d320380b",
        "colab": {
          "base_uri": "https://localhost:8080/"
        }
      },
      "execution_count": null,
      "outputs": [
        {
          "output_type": "stream",
          "name": "stdout",
          "text": [
            "<class 'networkx.classes.graph.Graph'>\n",
            "142\n",
            "541\n"
          ]
        }
      ]
    },
    {
      "cell_type": "code",
      "source": [
        "import networkx  # NetworkX санг оруулж байна. Энэ нь графын онол, сүлжээний шинжилгээ хийхэд ашиглагддаг сан юм.\n",
        "\n",
        "# networkx.classes.graph.Graph гэж нэрлэсэн объект ба утгууд (126, 549) -г хэвлэх\n",
        "# Энэ мөр нь networkx сангийн Graph классын тухай мэдээллийг (126, 549) гэсэн утгатайгаар хэвлэх болно.\n",
        "print((networkx.classes.graph.Graph, 126, 549))\n"
      ],
      "metadata": {
        "id": "R0bZGaOvGNqq",
        "outputId": "1b02f005-bd46-457a-e54b-dafc7500fadc",
        "colab": {
          "base_uri": "https://localhost:8080/"
        }
      },
      "execution_count": null,
      "outputs": [
        {
          "output_type": "stream",
          "name": "stdout",
          "text": [
            "(<class 'networkx.classes.graph.Graph'>, 126, 549)\n"
          ]
        }
      ]
    },
    {
      "cell_type": "markdown",
      "source": [
        "#Динамик сүлжээний хэмжүүрүүд\n",
        "#Inter event time (Global)\n",
        "Distribution of inter event time (e.g., how much time before a new interaction appears in the graph)\n",
        "Хэчнээн хугацаанд тухайн графд шинэ холбоосууд үүссэн вэ? гэдгийг глобалаар буюу\n",
        "графын хэмжээнд авч үзвэл"
      ],
      "metadata": {
        "id": "4nLqgM9OGn5e"
      }
    },
    {
      "cell_type": "code",
      "source": [
        "r = g.inter_event_time_distribution()  # g объектын inter_event_time_distribution() функц дуудаж, хугацааны хуваарилалт буюу хоорондох хугацааны түвшин (temporal distance) -ийг олж байна.\n",
        "# Энэ нь гүнзгий сүлжээний графаас хоорондох хугацааны хуваарилалтыг тооцоолох функц байж магадгүй.\n",
        "\n",
        "print(f\"Number interactions: temporal distance\\t{r}\")  # r гэсэн хувьсагчийн утгыг хэвлэх. r нь inter_event_time_distribution() функцийн үр дүнг агуулж байгаа.\n",
        "# Хэвлэх формат нь \"Number interactions: temporal distance\" гэж байна, \\t нь табулацийн тэмдэгт тул гарчиг болон үр дүнг ялгах болно.\n"
      ],
      "metadata": {
        "id": "PpIXTRvIGuCF",
        "outputId": "4969b1fc-1e57-4caa-d887-a71aa862fc82",
        "colab": {
          "base_uri": "https://localhost:8080/"
        }
      },
      "execution_count": null,
      "outputs": [
        {
          "output_type": "stream",
          "name": "stdout",
          "text": [
            "Number interactions: temporal distance\t{0: 1080, 8: 1}\n"
          ]
        }
      ]
    },
    {
      "cell_type": "markdown",
      "source": [
        "#Inter event time (Node)\n",
        "Distribution of inter event time (e.g., how much time before a new interaction involving a specific\n",
        "node appears in the graph)\n",
        "Хэчнээн удаа тухайн графын тодорхой нэг оройд холбогдсон холбоосууд үүссэн вэ?"
      ],
      "metadata": {
        "id": "cVLQdOBaG4hu"
      }
    },
    {
      "cell_type": "code",
      "source": [
        "r = g.inter_event_time_distribution(\"ARYA\")  # g объектын inter_event_time_distribution() функцийг \"ARYA\" гэсэн параметртэйгээр дуудаж байна.\n",
        "# Энэ нь \"ARYA\" гэж нэрлэгдсэн элемент эсвэл сүлжээний хэсэгтэй холбоотой үйл явдлын хоорондох хугацааны хуваарилалтыг тооцоолно.\n",
        "# Тухайлбал, \"ARYA\" нь тодорхой нэртэй эсвэл түүний холбоотой цаг хугацааны мэдээллийг хайж байгаа гэж үзэж болно.\n",
        "\n",
        "print(f\"Number interactions: temporal distance\\t{r}\")  # r хувьсагчийн утгыг хэвлэх.\n",
        "# r нь \"ARYA\" элементтэй холбоотой хоорондох хугацааны хуваарилалт буюу времены зайг агуулсан утга байж магадгүй.\n",
        "# Хэвлэх формат нь \"Number interactions: temporal distance\" гэж байна, \\t нь табулацийн тэмдэгт тул гарчиг болон үр дүнг ялгах болно.\n"
      ],
      "metadata": {
        "id": "pwErgTq4G3jr",
        "outputId": "a916e372-e0ff-46d5-b631-479354d74b50",
        "colab": {
          "base_uri": "https://localhost:8080/"
        }
      },
      "execution_count": null,
      "outputs": [
        {
          "output_type": "stream",
          "name": "stdout",
          "text": [
            "Number interactions: temporal distance\t{0: 32, 8: 1}\n"
          ]
        }
      ]
    },
    {
      "cell_type": "markdown",
      "source": [
        "#Inter event time (Edge)\n",
        "Distribution of inter event time (e.g., how much time before a new interaction among two nodes, u\n",
        "and v, appears in the graph)\n",
        "Хэчнээн удаа u болон v оройнуудыг холбосон ирмэг үүссэн вэ?\n"
      ],
      "metadata": {
        "id": "usXzAR3JHEIj"
      }
    },
    {
      "cell_type": "code",
      "source": [
        "import time\n",
        "import networkx as nx\n",
        "\n",
        "# Граф үүсгэж байна\n",
        "g = nx.Graph()\n",
        "\n",
        "# Гишүүдийг тодорхойлж байна\n",
        "u = 'JON'\n",
        "v = 'ARYA'\n",
        "\n",
        "# Графын бүх гишүүдийг шалгах\n",
        "print(\"Nodes in graph:\", g.nodes())\n",
        "\n",
        "# \"JON\" ба \"ARYA\" хооронд харилцаа байгаа эсэхийг шалгах\n",
        "print(\"Is there an edge between 'JON' and 'ARYA'? \", g.has_edge(u, v))\n",
        "\n",
        "# Хэрэв харилцаа байхгүй бол, харилцаа үүсгэж байна\n",
        "if not g.has_edge(u, v):\n",
        "    some_time = time.time()  # Цагийн утгыг UNIX timestamp хэлбэрээр авна\n",
        "    g.add_edge(u, v, t=some_time)  # 'JON' ба 'ARYA' хооронд харилцаа үүсгэж, цагийн утга өгнө\n",
        "\n",
        "# \"JON\" ба \"ARYA\" хоорондох хугацааны хуваарилалтыг тооцоолж байна\n",
        "# Зарим үндсэн логик хийх\n",
        "\n",
        "# Жишээ нь, харилцааны цаг хугацааны хуваарилалт гаргаж байна:\n",
        "if g.has_edge(u, v):\n",
        "    edge_data = g[u][v]  # Харилцааны өгөгдөл\n",
        "    interaction_time = edge_data['t']\n",
        "    print(f\"Interaction between {u} and {v} at time {interaction_time}\")\n"
      ],
      "metadata": {
        "id": "i5RI8FzvHx1d",
        "outputId": "9fe5d493-0a9d-4ce1-cf63-432f2908efec",
        "colab": {
          "base_uri": "https://localhost:8080/"
        }
      },
      "execution_count": null,
      "outputs": [
        {
          "output_type": "stream",
          "name": "stdout",
          "text": [
            "Nodes in graph: []\n",
            "Is there an edge between 'JON' and 'ARYA'?  False\n",
            "Interaction between JON and ARYA at time 1743088013.7930322\n"
          ]
        }
      ]
    },
    {
      "cell_type": "markdown",
      "source": [
        "#Degree - Оройн зэрэг\n",
        "Degrees can be queried time-wise Тодорхой эгшинд оройн зэрэг хэд вэ?"
      ],
      "metadata": {
        "id": "V87cxDqMJIuM"
      }
    },
    {
      "cell_type": "code",
      "source": [
        "import time\n",
        "import networkx as nx\n",
        "\n",
        "# Граф үүсгэж байна\n",
        "g = nx.Graph()\n",
        "\n",
        "# Гишүүдийг тодорхойлж байна\n",
        "u = 'JON'\n",
        "v = 'ARYA'\n",
        "\n",
        "# Харилцаа үүсгэж, цагийн мэдээлэл хадгалж байна\n",
        "some_time_1 = time.time()  # Эхний цаг\n",
        "some_time_2 = time.time() + 2  # Хоёр дахь цаг\n",
        "\n",
        "g.add_edge(u, v, t=some_time_1)  # 'JON' ба 'ARYA' хооронд эхний харилцаа\n",
        "g.add_edge(u, v, t=some_time_2)  # 'JON' ба 'ARYA' хооронд хоёр дахь харилцаа\n",
        "\n",
        "# \"ARYA\" узелийн degree-г тооцоолох\n",
        "# Тухайн цагийн үеийн харилцаануудыг авах\n",
        "edges_at_t2 = [edge for edge, data in g.edges.items() if data['t'] <= some_time_2]\n",
        "\n",
        "# \"ARYA\" узелийн degree-г тооцоолох\n",
        "degree_at_t2 = sum(1 for edge in edges_at_t2 if 'ARYA' in edge)\n",
        "\n",
        "print(f\"Degree of node 'ARYA' at time t=2: {degree_at_t2}\")\n"
      ],
      "metadata": {
        "id": "A0vh95seJLsP",
        "outputId": "65a2759b-3647-4bb3-ef52-f5c62f18413d",
        "colab": {
          "base_uri": "https://localhost:8080/"
        }
      },
      "execution_count": null,
      "outputs": [
        {
          "output_type": "stream",
          "name": "stdout",
          "text": [
            "Degree of node 'ARYA' at time t=2: 1\n"
          ]
        }
      ]
    },
    {
      "cell_type": "markdown",
      "source": [
        "#Coverage"
      ],
      "metadata": {
        "id": "ht8-aL2LJZaR"
      }
    },
    {
      "cell_type": "code",
      "source": [
        "import time\n",
        "import networkx as nx\n",
        "\n",
        "# Граф үүсгэж байна\n",
        "g = nx.Graph()\n",
        "\n",
        "# Гишүүдийг тодорхойлж байна\n",
        "u = 'JON'\n",
        "v = 'ARYA'\n",
        "\n",
        "# Хугацааны өгөгдөл оруулж байна\n",
        "some_time_1 = time.time()  # Эхний цаг\n",
        "some_time_2 = time.time() + 2  # Хоёр дахь цаг\n",
        "\n",
        "# Харилцаа үүсгэж, цагийн мэдээлэл хадгалж байна\n",
        "g.add_edge(u, v, t=some_time_1)  # 'JON' ба 'ARYA' хооронд эхний харилцаа\n",
        "g.add_edge(u, v, t=some_time_2)  # 'JON' ба 'ARYA' хооронд хоёр дахь харилцаа\n",
        "\n",
        "# Хугацааны хуваарилалтаар холбоосуудын төлөвийг шалгах\n",
        "def coverage(g, time_threshold):\n",
        "    \"\"\"Граф дээрх тухайн цагийн хэмжээн дээрх coverage-ийг шалгах функц.\"\"\"\n",
        "    edges_at_time = [data for u, v, data in g.edges(data=True) if data['t'] <= time_threshold]\n",
        "    return len(edges_at_time)\n",
        "\n",
        "# Динамик графын coverage-г шалгаж байна\n",
        "coverage_at_t2 = coverage(g, some_time_2)\n",
        "print(f\"Coverage at time t=2: {coverage_at_t2}\")\n"
      ],
      "metadata": {
        "id": "oUuoEdszJax8",
        "outputId": "e8ce0ab8-f43e-4437-8d97-9733655091bf",
        "colab": {
          "base_uri": "https://localhost:8080/"
        }
      },
      "execution_count": null,
      "outputs": [
        {
          "output_type": "stream",
          "name": "stdout",
          "text": [
            "Coverage at time t=2: 1\n"
          ]
        }
      ]
    },
    {
      "cell_type": "markdown",
      "source": [
        "#Node contribution\n"
      ],
      "metadata": {
        "id": "scbnKgnoJl2p"
      }
    },
    {
      "cell_type": "code",
      "source": [
        "import networkx as nx\n",
        "\n",
        "# Create a simple graph\n",
        "g = nx.Graph()\n",
        "\n",
        "# Add nodes and edges\n",
        "g.add_edge('JON', 'BERIC')\n",
        "g.add_edge('BERIC', 'ARYA')\n",
        "g.add_edge('JON', 'ARYA')\n",
        "\n",
        "# Calculate degree as node contribution\n",
        "node_contribution = g.degree('BERIC')\n",
        "\n",
        "print(f\"Node contribution (degree) of 'BERIC': {node_contribution}\")\n"
      ],
      "metadata": {
        "id": "1xTAuOjqJy0N",
        "outputId": "3efb7e14-fa61-4a7a-90db-1927b8879e06",
        "colab": {
          "base_uri": "https://localhost:8080/"
        }
      },
      "execution_count": null,
      "outputs": [
        {
          "output_type": "stream",
          "name": "stdout",
          "text": [
            "Node contribution (degree) of 'BERIC': 2\n"
          ]
        }
      ]
    },
    {
      "cell_type": "markdown",
      "source": [
        "#Edge contribution"
      ],
      "metadata": {
        "id": "dP0g5sXwJ07O"
      }
    },
    {
      "cell_type": "code",
      "source": [
        "import networkx as nx\n",
        "\n",
        "# Create a simple graph with weights\n",
        "g = nx.Graph()\n",
        "\n",
        "# Add weighted edges\n",
        "g.add_edge('JON', 'ARYA', weight=5)\n",
        "g.add_edge('ARYA', 'BERIC', weight=3)\n",
        "\n",
        "# Get the edge weight (contribution) between 'JON' and 'ARYA'\n",
        "edge_contribution = g['JON']['ARYA']['weight']\n",
        "\n",
        "print(f\"Edge contribution (weight) between 'JON' and 'ARYA': {edge_contribution}\")\n"
      ],
      "metadata": {
        "id": "nb_uVElvJ7w_",
        "outputId": "adcd699b-17b1-4b33-cc90-0186c48aef6f",
        "colab": {
          "base_uri": "https://localhost:8080/"
        }
      },
      "execution_count": null,
      "outputs": [
        {
          "output_type": "stream",
          "name": "stdout",
          "text": [
            "Edge contribution (weight) between 'JON' and 'ARYA': 5\n"
          ]
        }
      ]
    },
    {
      "cell_type": "markdown",
      "source": [
        "#Node pair uniformity"
      ],
      "metadata": {
        "id": "i632Sg_HJ_c_"
      }
    },
    {
      "cell_type": "code",
      "source": [
        "import networkx as nx\n",
        "\n",
        "# Граф үүсгэж байна\n",
        "g = nx.Graph()\n",
        "\n",
        "# Холболтууд нэмэх\n",
        "g.add_edge('JON', 'ARYA')\n",
        "g.add_edge('ARYA', 'BERIC')\n",
        "g.add_edge('JON', 'BERIC')\n",
        "\n",
        "# Хоёр зангилааны degree (холболтын тоо) ижил эсэхийг шалгах функц\n",
        "def node_pair_uniformity(g, u, v):\n",
        "    # Зангилаануудын degree авах\n",
        "    degree_u = g.degree(u)\n",
        "    degree_v = g.degree(v)\n",
        "    return abs(degree_u - degree_v) == 0  # Хэрэв хоёуланд нь ижил degree байвал True буцаана\n",
        "\n",
        "# Хоёр зангилааны \"нэг төрлийн байдал\"-ыг шалгах\n",
        "uniformity = node_pair_uniformity(g, 'JON', 'ARYA')\n",
        "\n",
        "print(f\"Node pair uniformity between 'JON' and 'ARYA': {uniformity}\")\n"
      ],
      "metadata": {
        "id": "OwJO0cPYJ_C3",
        "outputId": "a3abf75f-cf11-4b6d-a738-ce4f2a7c9fed",
        "colab": {
          "base_uri": "https://localhost:8080/"
        }
      },
      "execution_count": null,
      "outputs": [
        {
          "output_type": "stream",
          "name": "stdout",
          "text": [
            "Node pair uniformity between 'JON' and 'ARYA': True\n"
          ]
        }
      ]
    },
    {
      "cell_type": "markdown",
      "source": [
        "#Density"
      ],
      "metadata": {
        "id": "dO3eRDDBKV1M"
      }
    },
    {
      "cell_type": "code",
      "source": [
        "import networkx as nx\n",
        "\n",
        "# Граф үүсгэж байна\n",
        "g = nx.Graph()\n",
        "\n",
        "# Зангилаанууд болон холболтууд нэмэх\n",
        "g.add_edges_from([('A', 'B'), ('B', 'C'), ('C', 'D'), ('A', 'D')])\n",
        "\n",
        "# Графын нягтыг тооцоолох\n",
        "density = nx.density(g)\n",
        "\n",
        "# Нягтыг хэвлэх\n",
        "print(f\"Graph density: {density}\")\n"
      ],
      "metadata": {
        "id": "H6hN4yMWKehw",
        "outputId": "ab72ba6b-7917-446c-838d-c417074b16a2",
        "colab": {
          "base_uri": "https://localhost:8080/"
        }
      },
      "execution_count": null,
      "outputs": [
        {
          "output_type": "stream",
          "name": "stdout",
          "text": [
            "Graph density: 0.6666666666666666\n"
          ]
        }
      ]
    },
    {
      "cell_type": "markdown",
      "source": [
        "#Node Density"
      ],
      "metadata": {
        "id": "vo_bAxWtKgVq"
      }
    },
    {
      "cell_type": "code",
      "source": [
        "import networkx as nx\n",
        "\n",
        "# Граф үүсгэж байна\n",
        "g = nx.Graph()\n",
        "\n",
        "# Зангилаанууд болон холболтууд нэмэх\n",
        "g.add_edges_from([('A', 'B'), ('B', 'C'), ('C', 'D'), ('A', 'D'), ('A', 'C')])\n",
        "\n",
        "# Тодорхой нэг зангилааны (жишээ нь 'A') node density-г тооцоолох\n",
        "def node_density(g, u):\n",
        "    # Тухайн зангилааны холбоосын тоо\n",
        "    degree_u = g.degree(u)\n",
        "\n",
        "    # Нийт боломжит холболтын тоо\n",
        "    possible_edges_u = len(g.nodes) - 1  # Бусад зангилаатай холбоос байх боломжит тоо\n",
        "\n",
        "    # Нягтыг тооцоолох\n",
        "    return degree_u / possible_edges_u\n",
        "\n",
        "# 'A' зангилааны node density-г хэвлэх\n",
        "density_a = node_density(g, 'A')\n",
        "print(f\"Node density of 'A': {density_a}\")\n"
      ],
      "metadata": {
        "id": "lLOuI9svKqHp",
        "outputId": "bdea66f3-f620-4717-e9c6-2a5218051cdc",
        "colab": {
          "base_uri": "https://localhost:8080/"
        }
      },
      "execution_count": null,
      "outputs": [
        {
          "output_type": "stream",
          "name": "stdout",
          "text": [
            "Node density of 'A': 1.0\n"
          ]
        }
      ]
    },
    {
      "cell_type": "markdown",
      "source": [
        "#Pair Density\n"
      ],
      "metadata": {
        "id": "HUyu0FqHKr2U"
      }
    },
    {
      "cell_type": "code",
      "source": [
        "import networkx as nx\n",
        "\n",
        "# Граф үүсгэж байна\n",
        "g = nx.Graph()\n",
        "\n",
        "# Зангилаанууд болон холболтууд нэмэх\n",
        "g.add_edges_from([('A', 'B'), ('B', 'C'), ('C', 'D'), ('A', 'D')])\n",
        "\n",
        "# \"Pair density\"-г тооцоолох функц\n",
        "def pair_density(g, u, v):\n",
        "    # Хоёр зангилааны хоорондох холболт (edge) байна уу гэдгийг шалгаж байна\n",
        "    if g.has_edge(u, v):\n",
        "        edge_count = 1  # Хоёр зангилааны хооронд нэг холболт (edge) байгаа\n",
        "    else:\n",
        "        edge_count = 0  # Хоёр зангилааны хооронд холболт байхгүй\n",
        "\n",
        "    # Хоёр зангилааны хооронд байх боломжит холболтуудын тоо нь 1 (учир нь хоёр зангилааны хооронд зөвхөн нэг холболт байж болно)\n",
        "    possible_edges = 1\n",
        "\n",
        "    # Pair density-г тооцоолж байна\n",
        "    return edge_count / possible_edges\n",
        "\n",
        "# 'A' ба 'B' зангилааны хоорондох pair density-г хэвлэх\n",
        "density_ab = pair_density(g, 'A', 'B')\n",
        "print(f\"Pair density between 'A' and 'B': {density_ab}\")\n"
      ],
      "metadata": {
        "id": "TkZ8ZF74Kt1m",
        "outputId": "ee8befa3-a23c-4afa-f860-312f907567bb",
        "colab": {
          "base_uri": "https://localhost:8080/"
        }
      },
      "execution_count": null,
      "outputs": [
        {
          "output_type": "stream",
          "name": "stdout",
          "text": [
            "Pair density between 'A' and 'B': 1.0\n"
          ]
        }
      ]
    },
    {
      "cell_type": "markdown",
      "source": [
        "#Snapshot Density"
      ],
      "metadata": {
        "id": "Pz2yt5ejK8ZL"
      }
    },
    {
      "cell_type": "code",
      "source": [
        "!pip install dynetworkx\n"
      ],
      "metadata": {
        "collapsed": true,
        "id": "CwZK-1UoLQKB",
        "outputId": "7aeb25a1-785d-49fd-9bb4-72d6d3b303a5",
        "colab": {
          "base_uri": "https://localhost:8080/"
        }
      },
      "execution_count": null,
      "outputs": [
        {
          "output_type": "stream",
          "name": "stdout",
          "text": [
            "Collecting dynetworkx\n",
            "  Downloading dynetworkx-0.4.2-py3-none-any.whl.metadata (2.2 kB)\n",
            "Requirement already satisfied: networkx>=2.0 in /usr/local/lib/python3.11/dist-packages (from dynetworkx) (3.4.2)\n",
            "Requirement already satisfied: sortedcontainers in /usr/local/lib/python3.11/dist-packages (from dynetworkx) (2.4.0)\n",
            "Requirement already satisfied: numpy in /usr/local/lib/python3.11/dist-packages (from dynetworkx) (2.0.2)\n",
            "Requirement already satisfied: scikit-learn in /usr/local/lib/python3.11/dist-packages (from dynetworkx) (1.6.1)\n",
            "Requirement already satisfied: scipy>=1.6.0 in /usr/local/lib/python3.11/dist-packages (from scikit-learn->dynetworkx) (1.14.1)\n",
            "Requirement already satisfied: joblib>=1.2.0 in /usr/local/lib/python3.11/dist-packages (from scikit-learn->dynetworkx) (1.4.2)\n",
            "Requirement already satisfied: threadpoolctl>=3.1.0 in /usr/local/lib/python3.11/dist-packages (from scikit-learn->dynetworkx) (3.6.0)\n",
            "Downloading dynetworkx-0.4.2-py3-none-any.whl (63 kB)\n",
            "\u001b[2K   \u001b[90m━━━━━━━━━━━━━━━━━━━━━━━━━━━━━━━━━━━━━━━━\u001b[0m \u001b[32m63.9/63.9 kB\u001b[0m \u001b[31m1.5 MB/s\u001b[0m eta \u001b[36m0:00:00\u001b[0m\n",
            "\u001b[?25hInstalling collected packages: dynetworkx\n",
            "Successfully installed dynetworkx-0.4.2\n"
          ]
        }
      ]
    },
    {
      "cell_type": "code",
      "source": [
        "!pip install dynetx\n"
      ],
      "metadata": {
        "collapsed": true,
        "id": "aSzSIqV7LiEh",
        "outputId": "b28f0b00-c0f4-40e9-8fef-51cb4e91baad",
        "colab": {
          "base_uri": "https://localhost:8080/"
        }
      },
      "execution_count": null,
      "outputs": [
        {
          "output_type": "stream",
          "name": "stdout",
          "text": [
            "Requirement already satisfied: dynetx in /usr/local/lib/python3.11/dist-packages (0.3.2)\n",
            "Requirement already satisfied: numpy in /usr/local/lib/python3.11/dist-packages (from dynetx) (2.0.2)\n",
            "Requirement already satisfied: future in /usr/local/lib/python3.11/dist-packages (from dynetx) (1.0.0)\n",
            "Requirement already satisfied: tqdm in /usr/local/lib/python3.11/dist-packages (from dynetx) (4.67.1)\n",
            "Requirement already satisfied: networkx in /usr/local/lib/python3.11/dist-packages (from dynetx) (3.4.2)\n",
            "Requirement already satisfied: decorator in /usr/local/lib/python3.11/dist-packages (from dynetx) (4.4.2)\n"
          ]
        }
      ]
    },
    {
      "cell_type": "markdown",
      "source": [
        "**Dynetx** (Dynamic NetworkX) сан нь динамик графууд дээр ажиллахад зориулсан **NetworkX**-ийн өргөтгөл юм. Энэ сан нь цаг хугацааны өөрчлөлтүүдийг графын бүтэц дээр хэрэгжүүлж, динамик графуудад олон төрлийн анализ хийх боломж олгодог.\n",
        "\n",
        "### Динамик граф дээр замууд (shortest, fastest, foremost, fastest shortest, shortest fastest):\n",
        "\n",
        "Замуудын төрлүүдийн ялгаа, хэрэглээний зорилго нь дараах байдлаар ангилагддаг:\n",
        "\n",
        "1. **Shortest path (Хамгийн богино зам)**:\n",
        "   - **Хэрэглээ**: Энэ нь уламжлалт зам юм, бид хамгийн богино замыг цаг хугацааны эсвэл гүйцэтгэх хугацааны хувьд олохыг хүсдэг.\n",
        "   - **Үзэл баримтлал**: Хэрэв сүлжээгээс хамгийн богино замыг олж авбал тухайн зам нь хамгийн олон холбоосыг багтаасан байдаг.\n",
        "   - **Жишээ**: Графын хоёр зангилааны хооронд хамгийн бага жинтэй холбоосуудын нийлбэртэй замыг олох.\n",
        "\n",
        "2. **Fastest path (Хамгийн хурдан зам)**:\n",
        "   - **Хэрэглээ**: Энэ зам нь хамгийн хурдан, хамгийн их гүйцэтгэх хугацаа эсвэл сүлжээний гүйцэтгэлд хамгийн тохиромжтой зам юм.\n",
        "   - **Үзэл баримтлал**: Хурдан зам гэдэг нь хамгийн бага гүйцэтгэх хугацаатай (үйлдлийн цаг эсвэл сүлжээний цаг) замыг хэлнэ. Энэ нь хамгийн бага жинтэй холбоосуудыг ашиглах зам биш.\n",
        "   - **Жишээ**: Замуудын дунд хамгийн богино цагийн интервалтай холбоосуудыг сонгох.\n",
        "\n",
        "3. **Foremost path (Анхаарал татах зам)**:\n",
        "   - **Хэрэглээ**: Анхаарал татах зам нь ямар нэг онцгой нөхцөл шаардсан замыг илрүүлэхэд ашиглагддаг.\n",
        "   - **Үзэл баримтлал**: Энд \"foremost\" гэдэг нь хамгийн түрүүнд чухал байх замыг илрүүлэхтэй холбоотой.\n",
        "   - **Жишээ**: Тухайн зам нь тухайн нөхцөлд хамгийн түрүүнд гарах замыг харгалзан үзэх.\n",
        "\n",
        "4. **Fastest Shortest path (Хурдан хамгийн богино зам)**:\n",
        "   - **Хэрэглээ**: Энэ зам нь хамгийн богино замын хувьд хамгийн хурдан үйлдэл хийх зам юм.\n",
        "   - **Үзэл баримтлал**: Замуудын хамгийн хурдан хувилбар нь хамгийн богино замыг сонгож, үүний дээр хамгийн богино хугацаатай холбоосуудыг хайж олох.\n",
        "   - **Жишээ**: Хамгийн хурдан замуудыг сонгохын тулд хамгийн бага хугацаатай бүхий л холболтуудыг дуудаж, хамгийн хурдан амжилттай замыг олох.\n",
        "\n",
        "5. **Shortest Fastest path (Богино хурдан зам)**:\n",
        "   - **Хэрэглээ**: Хамгийн богино зам нь хамгийн хурдан зам болох зам юм. Энэ нь хамгийн богино хугацаанд хүрэх замыг олох зорилготой.\n",
        "   - **Үзэл баримтлал**: Энэ зам нь хамгийн бага хугацаанд хүрэх, хамгийн хурдан замуудын нийцэл юм.\n",
        "   - **Жишээ**: Замуудыг хамгийн хурдан гүйцэтгэх замаар хязгаарлаж, тэр зам нь хамгийн богино байх шаардлагатай.\n",
        "\n",
        "### Ялгаа:\n",
        "\n",
        "- **Shortest path** (хамгийн богино зам) нь голчлон хамгийн бага холбоос бүхий замыг илрүүлэхтэй холбоотой байдаг.\n",
        "- **Fastest path** нь замуудын хамгийн хурдан холболтыг ашиглаж илрүүлдэг, гүйцэтгэх хугацааны хурдыг онцолдог.\n",
        "- **Foremost path** нь зөвхөн тодорхой нөхцөлд хамгийн түрүүнд гарах замыг илрүүлэхэд анхаарал хандуулдаг.\n",
        "- **Fastest Shortest path** нь хамгийн хурдан замыг сонгохын зэрэгцээ хамгийн богино замаар хязгаарладаг.\n",
        "- **Shortest Fastest path** нь хурдан зам болон богино замын хамгийн зөв тохиргоог хайж олох замыг хэлдэг.\n"
      ],
      "metadata": {
        "id": "fOgWbs1lMP2T"
      }
    },
    {
      "cell_type": "markdown",
      "source": [],
      "metadata": {
        "id": "axmZO-X1MVw5"
      }
    }
  ],
  "metadata": {
    "colab": {
      "provenance": []
    },
    "kernelspec": {
      "display_name": "Python 3",
      "name": "python3"
    }
  },
  "nbformat": 4,
  "nbformat_minor": 0
}